{
  "nbformat": 4,
  "nbformat_minor": 0,
  "metadata": {
    "colab": {
      "private_outputs": true,
      "provenance": [],
      "collapsed_sections": [
        "vncDsAP0Gaoa",
        "FJNUwmbgGyua",
        "w6K7xa23Elo4",
        "yQaldy8SH6Dl",
        "PH-0ReGfmX4f",
        "mDgbUHAGgjLW",
        "O_i_v8NEhb9l",
        "HhfV-JJviCcP",
        "Y3lxredqlCYt",
        "3RnN4peoiCZX",
        "x71ZqKXriCWQ",
        "7hBIi_osiCS2",
        "JlHwYmJAmNHm",
        "35m5QtbWiB9F",
        "PoPl-ycgm1ru",
        "H0kj-8xxnORC",
        "nA9Y7ga8ng1Z",
        "PBTbrJXOngz2",
        "u3PMJOP6ngxN",
        "dauF4eBmngu3",
        "bKJF3rekwFvQ",
        "MSa1f5Uengrz",
        "GF8Ens_Soomf",
        "0wOQAZs5pc--",
        "K5QZ13OEpz2H",
        "lQ7QKXXCp7Bj",
        "448CDAPjqfQr",
        "KSlN3yHqYklG",
        "t6dVpIINYklI",
        "ijmpgYnKYklI",
        "-JiQyfWJYklI",
        "EM7whBJCYoAo",
        "fge-S5ZAYoAp",
        "85gYPyotYoAp",
        "RoGjAbkUYoAp",
        "4Of9eVA-YrdM",
        "iky9q4vBYrdO",
        "F6T5p64dYrdO",
        "y-Ehk30pYrdP",
        "bamQiAODYuh1",
        "QHF8YVU7Yuh3",
        "GwzvFGzlYuh3",
        "qYpmQ266Yuh3",
        "OH-pJp9IphqM",
        "bbFf2-_FphqN",
        "_ouA3fa0phqN",
        "Seke61FWphqN",
        "PIIx-8_IphqN",
        "t27r6nlMphqO",
        "r2jJGEOYphqO",
        "b0JNsNcRphqO",
        "BZR9WyysphqO",
        "jj7wYXLtphqO",
        "eZrbJ2SmphqO",
        "rFu4xreNphqO",
        "YJ55k-q6phqO",
        "gCFgpxoyphqP",
        "OVtJsKN_phqQ",
        "lssrdh5qphqQ",
        "U2RJ9gkRphqQ",
        "1M8mcRywphqQ",
        "tgIPom80phqQ",
        "JMzcOPDDphqR",
        "x-EpHcCOp1ci",
        "X_VqEhTip1ck",
        "8zGJKyg5p1ck",
        "PVzmfK_Ep1ck",
        "n3dbpmDWp1ck",
        "ylSl6qgtp1ck",
        "ZWILFDl5p1ck",
        "M7G43BXep1ck",
        "Ag9LCva-p1cl",
        "E6MkPsBcp1cl",
        "2cELzS2fp1cl",
        "3MPXvC8up1cl",
        "NC_X3p0fY2L0",
        "UV0SzAkaZNRQ",
        "YPEH6qLeZNRQ",
        "q29F0dvdveiT",
        "EXh0U9oCveiU",
        "22aHeOlLveiV",
        "JcMwzZxoAimU",
        "8G2x9gOozGDZ",
        "gCX9965dhzqZ",
        "gIfDvo9L0UH2"
      ]
    },
    "kernelspec": {
      "name": "python3",
      "display_name": "Python 3"
    },
    "language_info": {
      "name": "python"
    }
  },
  "cells": [
    {
      "cell_type": "code",
      "source": [],
      "metadata": {
        "id": "I1apcow5dxii"
      },
      "execution_count": null,
      "outputs": []
    },
    {
      "cell_type": "markdown",
      "source": [
        "# **Project Name**    -\n",
        "\n"
      ],
      "metadata": {
        "id": "vncDsAP0Gaoa"
      }
    },
    {
      "cell_type": "markdown",
      "source": [
        "FedEx Logistics Performance Analysis(Exploratory Data Analysis)\n",
        "\n"
      ],
      "metadata": {
        "id": "beRrZCGUAJYm"
      }
    },
    {
      "cell_type": "markdown",
      "source": [
        "# **Project Summary -**"
      ],
      "metadata": {
        "id": "FJNUwmbgGyua"
      }
    },
    {
      "cell_type": "markdown",
      "source": [
        "Business Context FedEx Logistics manages a complex global supply chain, dealing with shipments across various regions, countries, and industries. This dataset provides an in-depth look at their logistics processes, capturing important information on purchase orders (POs), shipment methods, vendor agreements (INCO terms), delivery schedules, and product-specific details such as item descriptions and dosage forms. Effective management of these processes ensures timely delivery, minimizes freight costs, and improves customer satisfaction.\n",
        "\n",
        "Given the rise of eCommerce and global distribution, companies like FedEx must continuously optimize their logistics operations to maintain a competitive edge. The dataset is designed to provide insights into how shipments are managed, identify bottlenecks or delays, and ensure cost-effectiveness. By analyzing the data, FedEx Logistics aims to streamline supply chain operations, improving delivery timelines and reducing costs for both the company and its customers."
      ],
      "metadata": {
        "id": "F6v_1wHtG2nS"
      }
    },
    {
      "cell_type": "markdown",
      "source": [
        "# **GitHub Link -**"
      ],
      "metadata": {
        "id": "w6K7xa23Elo4"
      }
    },
    {
      "cell_type": "markdown",
      "source": [
        "Provide your GitHub Link here."
      ],
      "metadata": {
        "id": "h1o69JH3Eqqn"
      }
    },
    {
      "cell_type": "markdown",
      "source": [
        "# **Problem Statement**\n"
      ],
      "metadata": {
        "id": "yQaldy8SH6Dl"
      }
    },
    {
      "cell_type": "markdown",
      "source": [
        "Efficient Approach to the Problem Statement\n",
        "\n",
        "Clarity in defining the problem and the approach to solving it:\n",
        "Innovative and efficient methodologies employed to achieve the project’s objectives.\n",
        "\n",
        "Data Exploration Techniques and Logic:\n",
        "Depth of exploratory data analysis (EDA) conducted to understand the dataset.\n",
        "Logical use of tools and techniques to uncover trends, patterns, and anomalies.\n",
        "\n",
        "Handling of Missing Values and Outliers:\n",
        "Effectiveness of methods used to manage missing data and outliers.\n",
        "Rationale behind the approach chosen, such as imputation or removal of anomalies.\n",
        "\n",
        "Visualization Logic:\n",
        "Quality and relevance of visualizations used to represent data insights.\n",
        "Use of appropriate charts, plots, and graphs to communicate findings effectively.\n",
        "\n",
        "Forming Insights and Understandings:\n",
        "Ability to generate actionable insights from the data.\n",
        "Logical deductions and the formation of conclusions that align with the project goals.\n",
        "\n",
        "Stakeholder Usefulness:\n",
        "Clear understanding of how the project results are beneficial to stakeholders.\n",
        "Demonstration of how insights can drive decision-making and add value to the business or target audience."
      ],
      "metadata": {
        "id": "DpeJGUA3kjGy"
      }
    },
    {
      "cell_type": "markdown",
      "source": [
        "#### **Define Your Business Objective?**"
      ],
      "metadata": {
        "id": "PH-0ReGfmX4f"
      }
    },
    {
      "cell_type": "markdown",
      "source": [
        "Answer Here."
      ],
      "metadata": {
        "id": "PhDvGCAqmjP1"
      }
    },
    {
      "cell_type": "markdown",
      "source": [
        "# **General Guidelines** : -  "
      ],
      "metadata": {
        "id": "mDgbUHAGgjLW"
      }
    },
    {
      "cell_type": "markdown",
      "source": [
        "1.   Well-structured, formatted, and commented code is required.\n",
        "2.   Exception Handling, Production Grade Code & Deployment Ready Code will be a plus. Those students will be awarded some additional credits.\n",
        "     \n",
        "     The additional credits will have advantages over other students during Star Student selection.\n",
        "       \n",
        "             [ Note: - Deployment Ready Code is defined as, the whole .ipynb notebook should be executable in one go\n",
        "                       without a single error logged. ]\n",
        "\n",
        "3.   Each and every logic should have proper comments.\n",
        "4. You may add as many number of charts you want. Make Sure for each and every chart the following format should be answered.\n",
        "        \n",
        "\n",
        "```\n",
        "# Chart visualization code\n",
        "```\n",
        "            \n",
        "\n",
        "*   Why did you pick the specific chart?\n",
        "*   What is/are the insight(s) found from the chart?\n",
        "* Will the gained insights help creating a positive business impact?\n",
        "Are there any insights that lead to negative growth? Justify with specific reason.\n",
        "\n",
        "5. You have to create at least 20 logical & meaningful charts having important insights.\n",
        "\n",
        "\n",
        "[ Hints : - Do the Vizualization in  a structured way while following \"UBM\" Rule.\n",
        "\n",
        "U - Univariate Analysis,\n",
        "\n",
        "B - Bivariate Analysis (Numerical - Categorical, Numerical - Numerical, Categorical - Categorical)\n",
        "\n",
        "M - Multivariate Analysis\n",
        " ]\n",
        "\n",
        "\n",
        "\n"
      ],
      "metadata": {
        "id": "ZrxVaUj-hHfC"
      }
    },
    {
      "cell_type": "markdown",
      "source": [
        "# ***Let's Begin !***"
      ],
      "metadata": {
        "id": "O_i_v8NEhb9l"
      }
    },
    {
      "cell_type": "markdown",
      "source": [
        "## ***1. Know Your Data***"
      ],
      "metadata": {
        "id": "HhfV-JJviCcP"
      }
    },
    {
      "cell_type": "markdown",
      "source": [
        "### Import Libraries"
      ],
      "metadata": {
        "id": "Y3lxredqlCYt"
      }
    },
    {
      "cell_type": "code",
      "source": [
        "# Import Libraries\n",
        "import numpy as np\n",
        "import pandas as pd\n",
        "import matplotlib.pyplot as plt\n",
        "import seaborn as sns\n",
        "import plotly.express as px\n",
        "import plotly.graph_objects as go\n",
        "\n"
      ],
      "metadata": {
        "id": "M8Vqi-pPk-HR"
      },
      "execution_count": null,
      "outputs": []
    },
    {
      "cell_type": "markdown",
      "source": [
        "### Dataset Loading"
      ],
      "metadata": {
        "id": "3RnN4peoiCZX"
      }
    },
    {
      "cell_type": "code",
      "source": [
        "# Load Dataset\n",
        "from google.colab import drive\n",
        "drive.mount('/content/drive')\n",
        "df=pd.read_csv('/content/drive/MyDrive/Projects/project2/SCMS_Delivery_History_Dataset.csv')\n"
      ],
      "metadata": {
        "id": "4CkvbW_SlZ_R"
      },
      "execution_count": null,
      "outputs": []
    },
    {
      "cell_type": "code",
      "source": [
        "df.columns"
      ],
      "metadata": {
        "id": "8jSoLkI_G02p"
      },
      "execution_count": null,
      "outputs": []
    },
    {
      "cell_type": "markdown",
      "source": [
        "### Dataset First View"
      ],
      "metadata": {
        "id": "x71ZqKXriCWQ"
      }
    },
    {
      "cell_type": "code",
      "source": [
        "# Dataset First Look\n",
        "df.head()"
      ],
      "metadata": {
        "id": "LWNFOSvLl09H"
      },
      "execution_count": null,
      "outputs": []
    },
    {
      "cell_type": "markdown",
      "source": [
        "### Dataset Rows & Columns count"
      ],
      "metadata": {
        "id": "7hBIi_osiCS2"
      }
    },
    {
      "cell_type": "code",
      "source": [
        "# Dataset Rows & Columns count\n",
        "df.shape"
      ],
      "metadata": {
        "id": "Kllu7SJgmLij"
      },
      "execution_count": null,
      "outputs": []
    },
    {
      "cell_type": "markdown",
      "source": [
        "### Dataset Information"
      ],
      "metadata": {
        "id": "JlHwYmJAmNHm"
      }
    },
    {
      "cell_type": "code",
      "source": [
        "# Dataset Info\n",
        "df.info()"
      ],
      "metadata": {
        "id": "e9hRXRi6meOf"
      },
      "execution_count": null,
      "outputs": []
    },
    {
      "cell_type": "markdown",
      "source": [
        "#### Duplicate Values"
      ],
      "metadata": {
        "id": "35m5QtbWiB9F"
      }
    },
    {
      "cell_type": "code",
      "source": [
        "# Dataset Duplicate Value Count\n",
        "num_duplicates = df.duplicated().sum()\n",
        "print(\"Number of duplicate rows:\", num_duplicates)\n"
      ],
      "metadata": {
        "id": "1sLdpKYkmox0"
      },
      "execution_count": null,
      "outputs": []
    },
    {
      "cell_type": "markdown",
      "source": [
        "#### Missing Values/Null Values"
      ],
      "metadata": {
        "id": "PoPl-ycgm1ru"
      }
    },
    {
      "cell_type": "code",
      "source": [
        "# Missing Values/Null Values Count\n",
        "missing_per_col = df.isnull().sum()\n",
        "print(missing_per_col)\n"
      ],
      "metadata": {
        "id": "GgHWkxvamxVg"
      },
      "execution_count": null,
      "outputs": []
    },
    {
      "cell_type": "code",
      "source": [
        "# Visualizing the missing values\n",
        "import missingno as msno\n",
        "import matplotlib.pyplot as plt\n",
        "\n",
        "# assuming df is your DataFrame\n",
        "msno.bar(df)            # bar chart: count of non-missing vs missing per column\n",
        "plt.show()\n",
        "\n",
        "# msno.matrix(df)         # matrix view: where missing values are (by row/column)\n",
        "# plt.show()\n",
        "\n",
        "# msno.heatmap(df)        # correlation among missingness of columns\n",
        "# plt.show()\n",
        "\n",
        "# msno.dendrogram(df)     # clusters columns by similarity of missingness pattern\n",
        "# plt.show()\n"
      ],
      "metadata": {
        "id": "3q5wnI3om9sJ"
      },
      "execution_count": null,
      "outputs": []
    },
    {
      "cell_type": "code",
      "source": [
        "df.columns"
      ],
      "metadata": {
        "id": "Q4_ismMWIB0z"
      },
      "execution_count": null,
      "outputs": []
    },
    {
      "cell_type": "markdown",
      "source": [
        "### What did you know about your dataset?"
      ],
      "metadata": {
        "id": "H0kj-8xxnORC"
      }
    },
    {
      "cell_type": "markdown",
      "source": [
        "the dataset have['ID', 'Project Code', 'PQ #', 'PO / SO #', 'ASN/DN #', 'Country',\n",
        "       'Managed By', 'Fulfill Via', 'Vendor INCO Term', 'Shipment Mode',\n",
        "       'PQ First Sent to Client Date', 'PO Sent to Vendor Date',\n",
        "       'Scheduled Delivery Date', 'Delivered to Client Date',\n",
        "       'Delivery Recorded Date', 'Product Group', 'Sub Classification',\n",
        "       'Vendor', 'Item Description', 'Molecule/Test Type', 'Brand', 'Dosage',\n",
        "       'Dosage Form', 'Unit of Measure (Per Pack)', 'Line Item Quantity',\n",
        "       'Line Item Value', 'Pack Price', 'Unit Price', 'Manufacturing Site',\n",
        "       'First Line Designation', 'Weight (Kilograms)', 'Freight Cost (USD)',\n",
        "       'Line Item Insurance (USD)'] columns and The data set has about 10,324 rows."
      ],
      "metadata": {
        "id": "gfoNAAC-nUe_"
      }
    },
    {
      "cell_type": "markdown",
      "source": [
        "## ***2. Understanding Your Variables***"
      ],
      "metadata": {
        "id": "nA9Y7ga8ng1Z"
      }
    },
    {
      "cell_type": "code",
      "source": [
        "# Dataset Columns\n",
        "df.columns"
      ],
      "metadata": {
        "id": "j7xfkqrt5Ag5"
      },
      "execution_count": null,
      "outputs": []
    },
    {
      "cell_type": "code",
      "source": [
        "# Dataset Describe\n",
        "df.describe()"
      ],
      "metadata": {
        "id": "DnOaZdaE5Q5t"
      },
      "execution_count": null,
      "outputs": []
    },
    {
      "cell_type": "code",
      "source": [
        "df.describe(include='object').columns"
      ],
      "metadata": {
        "id": "TcODAIQvIqTq"
      },
      "execution_count": null,
      "outputs": []
    },
    {
      "cell_type": "code",
      "source": [
        "df.describe(include=['int64','float64']).columns"
      ],
      "metadata": {
        "id": "Unb39hX9JC9s"
      },
      "execution_count": null,
      "outputs": []
    },
    {
      "cell_type": "markdown",
      "source": [
        "### Variables Description"
      ],
      "metadata": {
        "id": "PBTbrJXOngz2"
      }
    },
    {
      "cell_type": "markdown",
      "source": [
        "This data set have ['Project Code', 'PQ #', 'PO / SO #', 'ASN/DN #', 'Country',\n",
        "       'Managed By', 'Fulfill Via', 'Vendor INCO Term', 'Shipment Mode',\n",
        "       'PQ First Sent to Client Date', 'PO Sent to Vendor Date',\n",
        "       'Scheduled Delivery Date', 'Delivered to Client Date',\n",
        "       'Delivery Recorded Date', 'Product Group', 'Sub Classification',\n",
        "       'Vendor', 'Item Description', 'Molecule/Test Type', 'Brand', 'Dosage',\n",
        "       'Dosage Form', 'Manufacturing Site', 'First Line Designation',\n",
        "       'Weight (Kilograms)', 'Freight Cost (USD)'] as categorial columns and\n",
        "       ['ID', 'Unit of Measure (Per Pack)', 'Line Item Quantity',\n",
        "       'Line Item Value', 'Pack Price', 'Unit Price',\n",
        "       'Line Item Insurance (USD)'] as numerical columns."
      ],
      "metadata": {
        "id": "aJV4KIxSnxay"
      }
    },
    {
      "cell_type": "markdown",
      "source": [
        "### Check Unique Values for each variable."
      ],
      "metadata": {
        "id": "u3PMJOP6ngxN"
      }
    },
    {
      "cell_type": "code",
      "source": [
        "# Check Unique Values for each variable.\n",
        "# import pandas as pd\n",
        "\n",
        "# # load your dataset\n",
        "# df = pd.read_csv('/content/drive/MyDrive/Projects/project2/SCMS_Delivery_History_Dataset.csv')\n",
        "\n",
        "# For each column, print the number of unique values and optionally a few examples\n",
        "for col in df.columns:\n",
        "    unique_vals = df[col].unique()\n",
        "    num_unique = df[col].nunique(dropna=False)  # include NaN in count\n",
        "    # sample up to first 10 unique values to display\n",
        "    sample_vals = unique_vals[:10]\n",
        "    print(f\"Column: {col}\")\n",
        "    print(f\"  Unique count: {num_unique}\")\n",
        "    print(f\"  Sample values: {sample_vals}\")\n",
        "    print(\"-\" * 40)\n"
      ],
      "metadata": {
        "id": "zms12Yq5n-jE"
      },
      "execution_count": null,
      "outputs": []
    },
    {
      "cell_type": "markdown",
      "source": [
        "## 3. ***Data Wrangling***"
      ],
      "metadata": {
        "id": "dauF4eBmngu3"
      }
    },
    {
      "cell_type": "markdown",
      "source": [
        "### Data Wrangling Code"
      ],
      "metadata": {
        "id": "bKJF3rekwFvQ"
      }
    },
    {
      "cell_type": "code",
      "source": [
        "# Write your code to make your dataset analysis ready.\n",
        "\n",
        "\n",
        "def standardize_column_names(df):\n",
        "\n",
        "    df = df.copy()\n",
        "    df.columns = (\n",
        "        df.columns\n",
        "        .str.strip()\n",
        "        .str.lower()\n",
        "        .str.replace(' ', '_')\n",
        "        .str.replace(r'[^\\w]', '_', regex=True)\n",
        "    )\n",
        "    return df\n",
        "\n",
        "def clean_text_columns(df):\n",
        "\n",
        "    for col in df.select_dtypes(include=['object']):\n",
        "        df[col] = (\n",
        "            df[col]\n",
        "            .astype(str)\n",
        "            .str.strip()\n",
        "            .replace('nan', np.nan)  # optional: “nan” strings → actual NaN\n",
        "        )\n",
        "    return df\n",
        "\n",
        "def convert_data_types(df, dtype_map=None):\n",
        "\n",
        "    df = df.copy()\n",
        "    if dtype_map is None:\n",
        "        dtype_map = {}\n",
        "    for col, dtype in dtype_map.items():\n",
        "        try:\n",
        "            df[col] = df[col].astype(dtype)\n",
        "        except Exception:\n",
        "            # fallback: use pd.to_datetime or pd.to_numeric with errors='coerce'\n",
        "            if dtype == 'datetime':\n",
        "                df[col] = pd.to_datetime(df[col], errors='coerce', dayfirst=True)\n",
        "            elif dtype == 'numeric':\n",
        "                df[col] = pd.to_numeric(df[col], errors='coerce')\n",
        "            else:\n",
        "                # try generic conversion\n",
        "                df[col] = df[col].apply(dtype)\n",
        "    return df\n",
        "\n",
        "def drop_fully_empty_rows_and_cols(df):\n",
        "\n",
        "    df = df.dropna(axis=0, how='all')\n",
        "    df = df.dropna(axis=1, how='all')\n",
        "    return df\n",
        "\n",
        "def drop_duplicates(df, keep='first'):\n",
        "\n",
        "    df2 = df.drop_duplicates(keep=keep).reset_index(drop=True)\n",
        "    return df2\n",
        "\n",
        "def impute_missing_values(df, strategy_map=None):\n",
        "\n",
        "    df = df.copy()\n",
        "    if strategy_map is None:\n",
        "        strategy_map = {}\n",
        "    for col, (method, fill_value) in strategy_map.items():\n",
        "        if method == 'mean':\n",
        "            df[col] = df[col].fillna(df[col].mean())\n",
        "        elif method == 'median':\n",
        "            df[col] = df[col].fillna(df[col].median())\n",
        "        elif method == 'mode':\n",
        "            mode = df[col].mode()\n",
        "            if not mode.empty:\n",
        "                df[col] = df[col].fillna(mode.iloc[0])\n",
        "        elif method in ('ffill', 'bfill'):\n",
        "            df[col] = df[col].fillna(method=method)\n",
        "        elif method == 'constant':\n",
        "            df[col] = df[col].fillna(fill_value)\n",
        "        elif callable(method):\n",
        "            df[col] = df[col].fillna(method(df[col]))\n",
        "        else:\n",
        "            # fallback: constant\n",
        "            df[col] = df[col].fillna(fill_value)\n",
        "    return df\n",
        "\n",
        "def encode_categorical(df, cat_cols=None, drop_first=True):\n",
        "\n",
        "    df = df.copy()\n",
        "    if cat_cols is None:\n",
        "        # heuristically pick object / category dtypes\n",
        "        cat_cols = df.select_dtypes(include=['object', 'category']).columns.tolist()\n",
        "    # Option: convert to category dtype\n",
        "    for col in cat_cols:\n",
        "        df[col] = df[col].astype('category')\n",
        "    # One-hot (dummy) encoding if needed\n",
        "    df = pd.get_dummies(df, columns=cat_cols, drop_first=drop_first)\n",
        "    return df\n",
        "\n",
        "def detect_and_handle_outliers(df, numeric_cols=None, method='iqr', factor=1.5):\n",
        "\n",
        "    df = df.copy()\n",
        "    if numeric_cols is None:\n",
        "        numeric_cols = df.select_dtypes(include=[np.number]).columns.tolist()\n",
        "    for col in numeric_cols:\n",
        "        col_data = df[col]\n",
        "        if method == 'iqr':\n",
        "            q1 = col_data.quantile(0.25)\n",
        "            q3 = col_data.quantile(0.75)\n",
        "            iqr = q3 - q1\n",
        "            lower = q1 - factor * iqr\n",
        "            upper = q3 + factor * iqr\n",
        "            df[col] = col_data.clip(lower=lower, upper=upper)\n",
        "        elif method == 'zscore':\n",
        "            mean = col_data.mean()\n",
        "            std = col_data.std()\n",
        "            z = (col_data - mean) / std\n",
        "            df = df[(z.abs() <= factor)]\n",
        "    return df\n",
        "\n",
        "def feature_engineering(df):\n",
        "\n",
        "    df = df.copy()\n",
        "    # Example: if you have datetime columns, you can compute differences\n",
        "    # E.g.,\n",
        "    if 'scheduled_delivery_date' in df.columns and 'delivered_to_client_date' in df.columns:\n",
        "        df['delay_days'] = (\n",
        "            df['delivered_to_client_date'] - df['scheduled_delivery_date']\n",
        "        ).dt.days\n",
        "    # Extract month/year from date columns\n",
        "    for date_col in df.select_dtypes(include=['datetime64[ns]', 'datetime64']).columns:\n",
        "        df[f'{date_col}_month'] = df[date_col].dt.month\n",
        "        df[f'{date_col}_year'] = df[date_col].dt.year\n",
        "    return df\n",
        "\n",
        "def full_pipeline(path, dtype_map=None, strategy_map=None):\n",
        "\n",
        "\n",
        "    df = standardize_column_names(df)\n",
        "    df = clean_text_columns(df)\n",
        "    df = convert_data_types(df, dtype_map=dtype_map)\n",
        "    df = drop_fully_empty_rows_and_cols(df)\n",
        "    df = drop_duplicates(df)\n",
        "    df = impute_missing_values(df, strategy_map=strategy_map)\n",
        "    # Possibly encode or leave categorical columns as categories\n",
        "    # df = encode_categorical(df, cat_cols=[...])\n",
        "    df = feature_engineering(df)\n",
        "    return df\n",
        "\n",
        "# Example usage:\n",
        "\n",
        "\n"
      ],
      "metadata": {
        "id": "wk-9a2fpoLcV"
      },
      "execution_count": null,
      "outputs": []
    },
    {
      "cell_type": "markdown",
      "source": [
        "### What all manipulations have you done and insights you found?"
      ],
      "metadata": {
        "id": "MSa1f5Uengrz"
      }
    },
    {
      "cell_type": "markdown",
      "source": [
        "1-Make column names consistent: lowercase, underscores, no leading/trailing spaces.\n",
        "\n",
        "2-Clean whitespace, weird encoding, strings in object columns.\n",
        "\n",
        "3-Convert columns to appropriate data types.\n",
        "  #dtype_map: dict {col_name: dtype or conversion function}\n",
        "\n",
        "4-Remove rows or columns that are entirely NaN.\n",
        "\n",
        "5-Drop duplicate rows (exact match).\n",
        "\n",
        "6-Fill or impute missing values.\n",
        "  strategy_map: dict={col: (method, fill_value)}\n",
        "  method can be 'mean', 'median', 'mode', 'ffill', 'bfill', 'constant', or custom function.\n",
        "\n",
        "7-One-hot encode categorical variables or convert to category dtype.\n",
        "\n",
        "8-Optionally detect and handle outliers (e.g. cap, remove, transform).\n",
        "  method: 'iqr' or 'zscore'\n",
        "  factor: multiplier\n",
        "\n",
        "9-Add derived / useful columns (e.g. lead time, delay, month, year).\n",
        "\n"
      ],
      "metadata": {
        "id": "LbyXE7I1olp8"
      }
    },
    {
      "cell_type": "markdown",
      "source": [
        "## ***4. Data Vizualization, Storytelling & Experimenting with charts : Understand the relationships between variables***"
      ],
      "metadata": {
        "id": "GF8Ens_Soomf"
      }
    },
    {
      "cell_type": "markdown",
      "source": [
        "Pie Chart on Dependant Variable(Univariate)"
      ],
      "metadata": {
        "id": "0wOQAZs5pc--"
      }
    },
    {
      "cell_type": "code",
      "source": [
        "# Chart - 1 visualization code\n",
        "import pandas as pd\n",
        "import matplotlib.pyplot as plt\n",
        "\n",
        "# Sample DataFrame (replace this with your actual DataFrame)\n",
        "df = pd.DataFrame({\n",
        "    'dependent_variable': ['A', 'B', 'A', 'C', 'B', 'A', 'C', 'A', 'B', 'C']\n",
        "})\n",
        "\n",
        "# Count occurrences of each category in the dependent variable\n",
        "category_counts = df['dependent_variable'].value_counts()\n",
        "\n",
        "# Plotting the pie chart\n",
        "plt.figure(figsize=(8, 8))\n",
        "category_counts.plot(kind='pie', autopct='%1.1f%%', startangle=90, colors=plt.cm.Paired.colors)\n",
        "plt.title('Distribution of Dependent Variable')\n",
        "plt.ylabel('')  # Hide the y-label\n",
        "plt.tight_layout()\n",
        "plt.show()\n"
      ],
      "metadata": {
        "id": "7v_ESjsspbW7"
      },
      "execution_count": null,
      "outputs": []
    },
    {
      "cell_type": "markdown",
      "source": [
        "##### 1. Why did you pick the specific chart?"
      ],
      "metadata": {
        "id": "K5QZ13OEpz2H"
      }
    },
    {
      "cell_type": "markdown",
      "source": [
        "I chose a pie chart to visualize the distribution of your dependent variable because it effectively illustrates the proportional relationships among categories within a whole. This is particularly useful when you have a limited number of categories and want to emphasize how each category contributes to the total."
      ],
      "metadata": {
        "id": "XESiWehPqBRc"
      }
    },
    {
      "cell_type": "markdown",
      "source": [
        "##### 2. What is/are the insight(s) found from the chart?"
      ],
      "metadata": {
        "id": "lQ7QKXXCp7Bj"
      }
    },
    {
      "cell_type": "markdown",
      "source": [
        "From the pie chart visualizing the distribution of your dependent variable (e.g., delivery_status, product_type, vendor), several insights can be drawn"
      ],
      "metadata": {
        "id": "C_j1G7yiqdRP"
      }
    },
    {
      "cell_type": "markdown",
      "source": [
        "##### 3. Will the gained insights help creating a positive business impact?\n",
        "Are there any insights that lead to negative growth? Justify with specific reason."
      ],
      "metadata": {
        "id": "448CDAPjqfQr"
      }
    },
    {
      "cell_type": "markdown",
      "source": [
        "Yes, the insights gained from analyzing the distribution of your dependent variable can significantly influence business outcomes, both positively and negatively, depending on the nature of the data and the actions taken."
      ],
      "metadata": {
        "id": "3cspy4FjqxJW"
      }
    },
    {
      "cell_type": "markdown",
      "source": [
        "Bar Chart"
      ],
      "metadata": {
        "id": "KSlN3yHqYklG"
      }
    },
    {
      "cell_type": "code",
      "source": [
        "from google.colab import drive\n",
        "drive.mount('/content/drive')\n",
        "df=pd.read_csv('/content/drive/MyDrive/Projects/project2/SCMS_Delivery_History_Dataset.csv')"
      ],
      "metadata": {
        "id": "F4jR0rNXSjj-"
      },
      "execution_count": null,
      "outputs": []
    },
    {
      "cell_type": "code",
      "source": [
        "# Chart - 2 visualization code\n",
        "import pandas as pd\n",
        "import matplotlib.pyplot as plt\n",
        "plt.figure(figsize=(10, 6))\n",
        "sns.barplot(x='Product Group', y='Line Item Value', data=df, ci=None, palette='viridis')\n",
        "plt.title('Average Line Item Value by Product Group')\n",
        "plt.xlabel('Product Group')\n",
        "plt.ylabel('Average Line Item Value')\n",
        "plt.xticks(rotation=45)\n",
        "plt.tight_layout()\n",
        "plt.show()\n"
      ],
      "metadata": {
        "id": "R4YgtaqtYklH"
      },
      "execution_count": null,
      "outputs": []
    },
    {
      "cell_type": "code",
      "source": [],
      "metadata": {
        "id": "bDfYMT4e-cuw"
      },
      "execution_count": null,
      "outputs": []
    },
    {
      "cell_type": "markdown",
      "source": [
        "I selected a bar chart to visualize the relationship between a categorical variable (e.g., 'Product Group') and a numerical variable (e.g., 'Line Item Value')"
      ],
      "metadata": {
        "id": "t6dVpIINYklI"
      }
    },
    {
      "cell_type": "markdown",
      "source": [
        "Answer Here."
      ],
      "metadata": {
        "id": "5aaW0BYyYklI"
      }
    },
    {
      "cell_type": "markdown",
      "source": [
        "##### 2. What is/are the insight(s) found from the chart?"
      ],
      "metadata": {
        "id": "ijmpgYnKYklI"
      }
    },
    {
      "cell_type": "markdown",
      "source": [
        "Variation in Average Line Item Values:\n",
        "\n",
        "The chart reveals that different product groups exhibit varying average line item values. For instance, 'Product Group A' may have a significantly higher average value compared to 'Product Group B'.\n",
        "\n",
        "Identification of High-Value Product Groups:\n",
        "\n",
        "Product groups with higher average line item values are easily identifiable. This information is crucial for prioritizing inventory management and sales strategies.\n",
        "\n",
        "Potential for Profitability Analysis:\n",
        "\n",
        "Understanding which product groups contribute more to revenue can aid in profitability analysis. Higher average values might indicate premium products or higher demand, suggesting areas for increased focus.\n",
        "\n",
        "Strategic Decision Making:\n",
        "\n",
        "The insights gained can inform strategic decisions such as pricing adjustments, promotional efforts, and resource allocation to maximize revenue and market share.\n",
        "\n"
      ],
      "metadata": {
        "id": "PSx9atu2YklI"
      }
    },
    {
      "cell_type": "markdown",
      "source": [
        "##### 3. Will the gained insights help creating a positive business impact?\n",
        "Are there any insights that lead to negative growth? Justify with specific reason."
      ],
      "metadata": {
        "id": "-JiQyfWJYklI"
      }
    },
    {
      "cell_type": "markdown",
      "source": [
        "Yes, the insights derived from the bar chart—specifically, the variation in average 'Line Item Value' across different 'Product Group' categories—can significantly contribute to positive business outcomes."
      ],
      "metadata": {
        "id": "BcBbebzrYklV"
      }
    },
    {
      "cell_type": "markdown",
      "source": [
        "Box Plot"
      ],
      "metadata": {
        "id": "EM7whBJCYoAo"
      }
    },
    {
      "cell_type": "code",
      "source": [
        "# Chart - 3 visualization code\n",
        "plt.figure(figsize=(10, 6))\n",
        "sns.boxplot(x='Product Group', y='Line Item Value', data=df, palette='viridis')\n",
        "plt.title('Distribution of Line Item Value by Product Group')\n",
        "plt.xlabel('Product Group')\n",
        "plt.ylabel('Line Item Value')\n",
        "plt.xticks(rotation=45)\n",
        "plt.tight_layout()\n",
        "plt.show()\n"
      ],
      "metadata": {
        "id": "t6GMdE67YoAp"
      },
      "execution_count": null,
      "outputs": []
    },
    {
      "cell_type": "markdown",
      "source": [
        "##### 1. Why did you pick the specific chart?"
      ],
      "metadata": {
        "id": "fge-S5ZAYoAp"
      }
    },
    {
      "cell_type": "markdown",
      "source": [
        "When comparing multiple groups, box plots facilitate easy visualization of differences in medians, variability, and the presence of outliers, aiding in comparative analysis"
      ],
      "metadata": {
        "id": "5dBItgRVYoAp"
      }
    },
    {
      "cell_type": "markdown",
      "source": [
        "##### 2. What is/are the insight(s) found from the chart?"
      ],
      "metadata": {
        "id": "85gYPyotYoAp"
      }
    },
    {
      "cell_type": "markdown",
      "source": [
        "Variation in Central Tendency:\n",
        "\n",
        "The median 'Line Item Value' varies across 'Product Groups', indicating differing central tendencies. For instance, 'Product Group A' may have a higher median compared to 'Product Group B', suggesting that certain product categories consistently generate higher revenue.\n",
        "\n",
        "Differences in Data Spread:\n",
        "\n",
        "The interquartile range (IQR), represented by the box, varies among 'Product Groups'. A wider IQR indicates greater variability in 'Line Item Value' within that group, while a narrower IQR suggests more consistency. For example, 'Product Group C' might have a wider IQR, implying a diverse range of transaction values.\n",
        "\n",
        "Presence of Outliers:\n",
        "\n",
        "Outliers, depicted as individual points outside the whiskers, are present in some 'Product Groups'. These outliers could represent exceptional transactions, such as bulk orders or premium-priced items. Identifying these can help in understanding rare but impactful sales events.\n",
        "\n",
        "Skewness Indication:\n",
        "\n",
        "The symmetry of the box and whiskers provides insight into data skewness. If the upper whisker is longer than the lower one, it suggests a right-skewed distribution, where higher 'Line Item Values' are less frequent but more extreme. Conversely, a longer lower whisker indicates a left-skewed distribution."
      ],
      "metadata": {
        "id": "4jstXR6OYoAp"
      }
    },
    {
      "cell_type": "markdown",
      "source": [
        "##### 3. Will the gained insights help creating a positive business impact?\n",
        "Are there any insights that lead to negative growth? Justify with specific reason."
      ],
      "metadata": {
        "id": "RoGjAbkUYoAp"
      }
    },
    {
      "cell_type": "markdown",
      "source": [
        "Yes, the insights derived from the box plot can significantly contribute to creating a positive business impact."
      ],
      "metadata": {
        "id": "zfJ8IqMcYoAp"
      }
    },
    {
      "cell_type": "markdown",
      "source": [
        "(Univariate + Bivariate)"
      ],
      "metadata": {
        "id": "4Of9eVA-YrdM"
      }
    },
    {
      "cell_type": "code",
      "source": [
        "df.columns"
      ],
      "metadata": {
        "id": "lZwrgJWKSW99"
      },
      "execution_count": null,
      "outputs": []
    },
    {
      "cell_type": "code",
      "source": [
        "# Chart - 4 visualization code\n",
        "import seaborn as sns\n",
        "import matplotlib.pyplot as plt\n",
        "\n",
        "sns.histplot(df['Line Item Value'], kde=True)\n",
        "plt.title('Distribution of Line Item Value')\n",
        "plt.show()\n",
        "sns.boxplot(x=df['Line Item Value'])\n",
        "plt.title('Box Plot of Line Item Value')\n",
        "plt.show()\n",
        "sns.countplot(x='Country', data=df)\n",
        "plt.title('Count of Entries by Country')\n",
        "plt.xticks(rotation=90)\n",
        "plt.show()\n",
        "country_counts = df['Country'].value_counts()\n",
        "country_counts.plot.pie(autopct='%1.1f%%')\n",
        "plt.title('Proportion of Entries by Country')\n",
        "plt.ylabel('')\n",
        "plt.show()\n",
        "sns.scatterplot(x='Line Item Value', y='Freight Cost (USD)', data=df)\n",
        "plt.title('Line Item Value vs. Freight Cost')\n",
        "plt.show()\n",
        "sns.boxplot(x='Product Group', y='Line Item Value', data=df)\n",
        "plt.title('Line Item Value by Product Group')\n",
        "plt.xticks(rotation=90)\n",
        "plt.show()\n"
      ],
      "metadata": {
        "id": "irlUoxc8YrdO"
      },
      "execution_count": null,
      "outputs": []
    },
    {
      "cell_type": "markdown",
      "source": [
        "##### 1. Why did you pick the specific chart?"
      ],
      "metadata": {
        "id": "iky9q4vBYrdO"
      }
    },
    {
      "cell_type": "markdown",
      "source": [
        "1. Numerical Variables (e.g., 'Line Item Value', 'Pack Price', 'Unit Price', 'Freight Cost (USD)', 'Weight (Kilograms)'):\n",
        "Histogram: Ideal for visualizing the frequency distribution of a numerical variable. It helps in understanding the spread and skewness of the data.\n",
        "\n",
        "Box Plot: Provides a summary of the data distribution, highlighting the median, quartiles, and potential outliers.\n",
        "\n",
        "2. Categorical Variables (e.g., 'Country', 'Product Group', 'Vendor'):\n",
        "Bar Chart: Displays the count of each category, making it easy to compare the frequency of categories.\n",
        "\n",
        "Pie Chart: Shows the proportion of each category relative to the whole, useful for understanding the composition of categorical data.\n",
        "\n",
        "🔗 Bivariate Analysis\n",
        "Objective: Explore the relationship between two variables to identify patterns, correlations, or trends.\n",
        "\n",
        "1. Numerical vs. Numerical (e.g., 'Line Item Value' vs. 'Freight Cost (USD)'):\n",
        "Scatter Plot: Effective for visualizing the correlation between two numerical variables. It helps in identifying linear or non-linear relationships.\n",
        "\n",
        "2. Categorical vs. Numerical (e.g., 'Product Group' vs. 'Line Item Value'):\n",
        "Box Plot: Compares the distribution of a numerical variable across different categories, highlighting differences in medians and variability.\n",
        "\n",
        "Bar Plot: Shows the average of a numerical variable for each category, useful for comparing central tendencies."
      ],
      "metadata": {
        "id": "aJRCwT6DYrdO"
      }
    },
    {
      "cell_type": "markdown",
      "source": [
        "##### 2. What is/are the insight(s) found from the chart?"
      ],
      "metadata": {
        "id": "F6T5p64dYrdO"
      }
    },
    {
      "cell_type": "markdown",
      "source": [
        "Both bar and box plots are instrumental in uncovering insights that can drive business improvements. Bar charts facilitate comparison across categories, while box plots provide a deeper understanding of data distribution and variability. Together, they enable businesses to make data-driven decisions that enhance performance and efficiency."
      ],
      "metadata": {
        "id": "Xx8WAJvtYrdO"
      }
    },
    {
      "cell_type": "markdown",
      "source": [
        "##### 3. Will the gained insights help creating a positive business impact?\n",
        "Are there any insights that lead to negative growth? Justify with specific reason."
      ],
      "metadata": {
        "id": "y-Ehk30pYrdP"
      }
    },
    {
      "cell_type": "markdown",
      "source": [
        "Yes, the insights gained from bar and box plots can significantly contribute to positive business impact by enhancing decision-making processes, optimizing operations, and identifying areas for improvement."
      ],
      "metadata": {
        "id": "jLNxxz7MYrdP"
      }
    },
    {
      "cell_type": "markdown",
      "source": [
        "#### Chart - 5"
      ],
      "metadata": {
        "id": "bamQiAODYuh1"
      }
    },
    {
      "cell_type": "code",
      "source": [
        "# Chart - 5 visualization code\n",
        "import pandas as pd\n",
        "import matplotlib.pyplot as plt\n",
        "from pandas.plotting import parallel_coordinates\n",
        "\n",
        "# Sample data\n",
        "data = {\n",
        "    'Line Item Value': [100, 200, 300, 400, 500],\n",
        "    'Pack Price': [10, 20, 30, 40, 50],\n",
        "    'Unit Price': [5, 10, 15, 20, 25],\n",
        "    'Freight Cost (USD)': [50, 100, 150, 200, 250],\n",
        "    'Line Item Insurance (USD)': [5, 10, 15, 20, 25],\n",
        "    'Product Group': ['A', 'B', 'A', 'B', 'A']\n",
        "}\n",
        "\n",
        "# Create DataFrame\n",
        "df = pd.DataFrame(data)\n",
        "\n",
        "# Plot\n",
        "plt.figure(figsize=(10, 6))\n",
        "parallel_coordinates(df, 'Product Group', color=('#556270', '#4ECDC4'))\n",
        "plt.title('Parallel Coordinate Plot')\n",
        "plt.xlabel('Variables')\n",
        "plt.ylabel('Values')\n",
        "plt.grid(True)\n",
        "plt.show()\n"
      ],
      "metadata": {
        "id": "TIJwrbroYuh3"
      },
      "execution_count": null,
      "outputs": []
    },
    {
      "cell_type": "markdown",
      "source": [
        "##### 1. Why did you pick the specific chart?"
      ],
      "metadata": {
        "id": "QHF8YVU7Yuh3"
      }
    },
    {
      "cell_type": "markdown",
      "source": [
        "Handling Multivariate Data: It allows for the visualization of high-dimensional datasets, making it easier to identify relationships between variables.\n",
        "\n",
        "Identifying Correlations and Patterns: By connecting data points across parallel axes, it facilitates the detection of trends, clusters, and outliers.\n",
        "\n",
        "Comparing Multiple Variables: It enables the comparison of several variables at once, providing a comprehensive view of the data."
      ],
      "metadata": {
        "id": "dcxuIMRPYuh3"
      }
    },
    {
      "cell_type": "markdown",
      "source": [
        "##### 2. What is/are the insight(s) found from the chart?"
      ],
      "metadata": {
        "id": "GwzvFGzlYuh3"
      }
    },
    {
      "cell_type": "markdown",
      "source": [
        "dentification of Correlations:\n",
        "\n",
        "Parallel coordinate plots allow for the detection of linear or non-linear relationships between variables. For instance, if lines representing 'Line Item Value' and 'Pack Price' consistently move in parallel, it indicates a positive correlation between these two variables. Conversely, if the lines diverge, it suggests a negative correlation.\n",
        "\n",
        "Detection of Clusters:\n",
        "\n",
        "The plot can reveal clusters of similar observations. By grouping lines that follow similar paths across the axes, one can identify segments of the data that exhibit similar characteristics, aiding in segmentation and targeted analysis."
      ],
      "metadata": {
        "id": "uyqkiB8YYuh3"
      }
    },
    {
      "cell_type": "markdown",
      "source": [
        "##### 3. Will the gained insights help creating a positive business impact?\n",
        "Are there any insights that lead to negative growth? Justify with specific reason."
      ],
      "metadata": {
        "id": "qYpmQ266Yuh3"
      }
    },
    {
      "cell_type": "markdown",
      "source": [
        "Yes, the insights derived from a parallel coordinate plot can significantly contribute to positive business outcomes. However, if misinterpreted or overlooked, certain patterns may inadvertently lead to negative growth."
      ],
      "metadata": {
        "id": "_WtzZ_hCYuh4"
      }
    },
    {
      "cell_type": "markdown",
      "source": [
        "#### Chart - 6"
      ],
      "metadata": {
        "id": "OH-pJp9IphqM"
      }
    },
    {
      "cell_type": "code",
      "source": [
        "# Chart - 6 visualization code"
      ],
      "metadata": {
        "id": "kuRf4wtuphqN"
      },
      "execution_count": null,
      "outputs": []
    },
    {
      "cell_type": "markdown",
      "source": [
        "##### 1. Why did you pick the specific chart?"
      ],
      "metadata": {
        "id": "bbFf2-_FphqN"
      }
    },
    {
      "cell_type": "markdown",
      "source": [
        "Answer Here."
      ],
      "metadata": {
        "id": "loh7H2nzphqN"
      }
    },
    {
      "cell_type": "markdown",
      "source": [
        "##### 2. What is/are the insight(s) found from the chart?"
      ],
      "metadata": {
        "id": "_ouA3fa0phqN"
      }
    },
    {
      "cell_type": "markdown",
      "source": [
        "Answer Here"
      ],
      "metadata": {
        "id": "VECbqPI7phqN"
      }
    },
    {
      "cell_type": "markdown",
      "source": [
        "##### 3. Will the gained insights help creating a positive business impact?\n",
        "Are there any insights that lead to negative growth? Justify with specific reason."
      ],
      "metadata": {
        "id": "Seke61FWphqN"
      }
    },
    {
      "cell_type": "markdown",
      "source": [
        "Answer Here"
      ],
      "metadata": {
        "id": "DW4_bGpfphqN"
      }
    },
    {
      "cell_type": "markdown",
      "source": [
        "#### Chart - 7"
      ],
      "metadata": {
        "id": "PIIx-8_IphqN"
      }
    },
    {
      "cell_type": "code",
      "source": [
        "# Chart - 7 visualization code"
      ],
      "metadata": {
        "id": "lqAIGUfyphqO"
      },
      "execution_count": null,
      "outputs": []
    },
    {
      "cell_type": "markdown",
      "source": [
        "##### 1. Why did you pick the specific chart?"
      ],
      "metadata": {
        "id": "t27r6nlMphqO"
      }
    },
    {
      "cell_type": "markdown",
      "source": [
        "Answer Here."
      ],
      "metadata": {
        "id": "iv6ro40sphqO"
      }
    },
    {
      "cell_type": "markdown",
      "source": [
        "##### 2. What is/are the insight(s) found from the chart?"
      ],
      "metadata": {
        "id": "r2jJGEOYphqO"
      }
    },
    {
      "cell_type": "markdown",
      "source": [
        "Answer Here"
      ],
      "metadata": {
        "id": "Po6ZPi4hphqO"
      }
    },
    {
      "cell_type": "markdown",
      "source": [
        "##### 3. Will the gained insights help creating a positive business impact?\n",
        "Are there any insights that lead to negative growth? Justify with specific reason."
      ],
      "metadata": {
        "id": "b0JNsNcRphqO"
      }
    },
    {
      "cell_type": "markdown",
      "source": [
        "Answer Here"
      ],
      "metadata": {
        "id": "xvSq8iUTphqO"
      }
    },
    {
      "cell_type": "markdown",
      "source": [
        "#### Chart - 8"
      ],
      "metadata": {
        "id": "BZR9WyysphqO"
      }
    },
    {
      "cell_type": "code",
      "source": [
        "# Chart - 8 visualization code"
      ],
      "metadata": {
        "id": "TdPTWpAVphqO"
      },
      "execution_count": null,
      "outputs": []
    },
    {
      "cell_type": "markdown",
      "source": [
        "##### 1. Why did you pick the specific chart?"
      ],
      "metadata": {
        "id": "jj7wYXLtphqO"
      }
    },
    {
      "cell_type": "markdown",
      "source": [
        "Answer Here."
      ],
      "metadata": {
        "id": "Ob8u6rCTphqO"
      }
    },
    {
      "cell_type": "markdown",
      "source": [
        "##### 2. What is/are the insight(s) found from the chart?"
      ],
      "metadata": {
        "id": "eZrbJ2SmphqO"
      }
    },
    {
      "cell_type": "markdown",
      "source": [
        "Answer Here"
      ],
      "metadata": {
        "id": "mZtgC_hjphqO"
      }
    },
    {
      "cell_type": "markdown",
      "source": [
        "##### 3. Will the gained insights help creating a positive business impact?\n",
        "Are there any insights that lead to negative growth? Justify with specific reason."
      ],
      "metadata": {
        "id": "rFu4xreNphqO"
      }
    },
    {
      "cell_type": "markdown",
      "source": [
        "Answer Here"
      ],
      "metadata": {
        "id": "ey_0qi68phqO"
      }
    },
    {
      "cell_type": "markdown",
      "source": [
        "#### Chart - 9"
      ],
      "metadata": {
        "id": "YJ55k-q6phqO"
      }
    },
    {
      "cell_type": "code",
      "source": [
        "# Chart - 9 visualization code"
      ],
      "metadata": {
        "id": "B2aS4O1ophqO"
      },
      "execution_count": null,
      "outputs": []
    },
    {
      "cell_type": "markdown",
      "source": [
        "##### 1. Why did you pick the specific chart?"
      ],
      "metadata": {
        "id": "gCFgpxoyphqP"
      }
    },
    {
      "cell_type": "markdown",
      "source": [
        "Answer Here."
      ],
      "metadata": {
        "id": "TVxDimi2phqP"
      }
    },
    {
      "cell_type": "markdown",
      "source": [
        "##### 2. What is/are the insight(s) found from the chart?"
      ],
      "metadata": {
        "id": "OVtJsKN_phqQ"
      }
    },
    {
      "cell_type": "markdown",
      "source": [
        "Answer Here"
      ],
      "metadata": {
        "id": "ngGi97qjphqQ"
      }
    },
    {
      "cell_type": "markdown",
      "source": [
        "##### 3. Will the gained insights help creating a positive business impact?\n",
        "Are there any insights that lead to negative growth? Justify with specific reason."
      ],
      "metadata": {
        "id": "lssrdh5qphqQ"
      }
    },
    {
      "cell_type": "markdown",
      "source": [
        "Answer Here"
      ],
      "metadata": {
        "id": "tBpY5ekJphqQ"
      }
    },
    {
      "cell_type": "markdown",
      "source": [
        "#### Chart - 10"
      ],
      "metadata": {
        "id": "U2RJ9gkRphqQ"
      }
    },
    {
      "cell_type": "code",
      "source": [
        "# Chart - 10 visualization code"
      ],
      "metadata": {
        "id": "GM7a4YP4phqQ"
      },
      "execution_count": null,
      "outputs": []
    },
    {
      "cell_type": "markdown",
      "source": [
        "##### 1. Why did you pick the specific chart?"
      ],
      "metadata": {
        "id": "1M8mcRywphqQ"
      }
    },
    {
      "cell_type": "markdown",
      "source": [
        "Answer Here."
      ],
      "metadata": {
        "id": "8agQvks0phqQ"
      }
    },
    {
      "cell_type": "markdown",
      "source": [
        "##### 2. What is/are the insight(s) found from the chart?"
      ],
      "metadata": {
        "id": "tgIPom80phqQ"
      }
    },
    {
      "cell_type": "markdown",
      "source": [
        "Answer Here"
      ],
      "metadata": {
        "id": "Qp13pnNzphqQ"
      }
    },
    {
      "cell_type": "markdown",
      "source": [
        "##### 3. Will the gained insights help creating a positive business impact?\n",
        "Are there any insights that lead to negative growth? Justify with specific reason."
      ],
      "metadata": {
        "id": "JMzcOPDDphqR"
      }
    },
    {
      "cell_type": "markdown",
      "source": [
        "Answer Here"
      ],
      "metadata": {
        "id": "R4Ka1PC2phqR"
      }
    },
    {
      "cell_type": "markdown",
      "source": [
        "#### Chart - 11"
      ],
      "metadata": {
        "id": "x-EpHcCOp1ci"
      }
    },
    {
      "cell_type": "code",
      "source": [
        "# Chart - 11 visualization code"
      ],
      "metadata": {
        "id": "mAQTIvtqp1cj"
      },
      "execution_count": null,
      "outputs": []
    },
    {
      "cell_type": "markdown",
      "source": [
        "##### 1. Why did you pick the specific chart?"
      ],
      "metadata": {
        "id": "X_VqEhTip1ck"
      }
    },
    {
      "cell_type": "markdown",
      "source": [
        "Answer Here."
      ],
      "metadata": {
        "id": "-vsMzt_np1ck"
      }
    },
    {
      "cell_type": "markdown",
      "source": [
        "##### 2. What is/are the insight(s) found from the chart?"
      ],
      "metadata": {
        "id": "8zGJKyg5p1ck"
      }
    },
    {
      "cell_type": "markdown",
      "source": [
        "Answer Here"
      ],
      "metadata": {
        "id": "ZYdMsrqVp1ck"
      }
    },
    {
      "cell_type": "markdown",
      "source": [
        "##### 3. Will the gained insights help creating a positive business impact?\n",
        "Are there any insights that lead to negative growth? Justify with specific reason."
      ],
      "metadata": {
        "id": "PVzmfK_Ep1ck"
      }
    },
    {
      "cell_type": "markdown",
      "source": [
        "Answer Here"
      ],
      "metadata": {
        "id": "druuKYZpp1ck"
      }
    },
    {
      "cell_type": "markdown",
      "source": [
        "#### Chart - 12"
      ],
      "metadata": {
        "id": "n3dbpmDWp1ck"
      }
    },
    {
      "cell_type": "code",
      "source": [
        "# Chart - 12 visualization code"
      ],
      "metadata": {
        "id": "bwevp1tKp1ck"
      },
      "execution_count": null,
      "outputs": []
    },
    {
      "cell_type": "markdown",
      "source": [
        "##### 1. Why did you pick the specific chart?"
      ],
      "metadata": {
        "id": "ylSl6qgtp1ck"
      }
    },
    {
      "cell_type": "markdown",
      "source": [
        "Answer Here."
      ],
      "metadata": {
        "id": "m2xqNkiQp1ck"
      }
    },
    {
      "cell_type": "markdown",
      "source": [
        "##### 2. What is/are the insight(s) found from the chart?"
      ],
      "metadata": {
        "id": "ZWILFDl5p1ck"
      }
    },
    {
      "cell_type": "markdown",
      "source": [
        "Answer Here"
      ],
      "metadata": {
        "id": "x-lUsV2mp1ck"
      }
    },
    {
      "cell_type": "markdown",
      "source": [
        "##### 3. Will the gained insights help creating a positive business impact?\n",
        "Are there any insights that lead to negative growth? Justify with specific reason."
      ],
      "metadata": {
        "id": "M7G43BXep1ck"
      }
    },
    {
      "cell_type": "markdown",
      "source": [
        "Answer Here"
      ],
      "metadata": {
        "id": "5wwDJXsLp1cl"
      }
    },
    {
      "cell_type": "markdown",
      "source": [
        "#### Chart - 13"
      ],
      "metadata": {
        "id": "Ag9LCva-p1cl"
      }
    },
    {
      "cell_type": "code",
      "source": [
        "# Chart - 13 visualization code"
      ],
      "metadata": {
        "id": "EUfxeq9-p1cl"
      },
      "execution_count": null,
      "outputs": []
    },
    {
      "cell_type": "markdown",
      "source": [
        "##### 1. Why did you pick the specific chart?"
      ],
      "metadata": {
        "id": "E6MkPsBcp1cl"
      }
    },
    {
      "cell_type": "markdown",
      "source": [
        "Answer Here."
      ],
      "metadata": {
        "id": "V22bRsFWp1cl"
      }
    },
    {
      "cell_type": "markdown",
      "source": [
        "##### 2. What is/are the insight(s) found from the chart?"
      ],
      "metadata": {
        "id": "2cELzS2fp1cl"
      }
    },
    {
      "cell_type": "markdown",
      "source": [
        "Answer Here"
      ],
      "metadata": {
        "id": "ozQPc2_Ip1cl"
      }
    },
    {
      "cell_type": "markdown",
      "source": [
        "##### 3. Will the gained insights help creating a positive business impact?\n",
        "Are there any insights that lead to negative growth? Justify with specific reason."
      ],
      "metadata": {
        "id": "3MPXvC8up1cl"
      }
    },
    {
      "cell_type": "markdown",
      "source": [
        "Answer Here"
      ],
      "metadata": {
        "id": "GL8l1tdLp1cl"
      }
    },
    {
      "cell_type": "markdown",
      "source": [
        "#### Chart - 14 - Correlation Heatmap"
      ],
      "metadata": {
        "id": "NC_X3p0fY2L0"
      }
    },
    {
      "cell_type": "code",
      "source": [
        "# Correlation Heatmap visualization code\n",
        "import pandas as pd\n",
        "import seaborn as sns\n",
        "import matplotlib.pyplot as plt\n",
        "import numpy as np\n",
        "\n",
        "# Sample DataFrame (replace with your actual DataFrame)\n",
        "data = {\n",
        "    'Line Item Quantity': [100, 200, 150, 300, 250],\n",
        "    'Line Item Value': [1000, 2000, 1500, 3000, 2500],\n",
        "    'Pack Price': [10, 20, 15, 30, 25],\n",
        "    'Unit Price': [1, 2, 1.5, 3, 2.5],\n",
        "    'Weight (Kilograms)': [5, 10, 7.5, 15, 12.5],\n",
        "    'Freight Cost (USD)': [50, 100, 75, 150, 125],\n",
        "    'Line Item Insurance (USD)': [5, 10, 7.5, 15, 12.5]\n",
        "}\n",
        "\n",
        "df = pd.DataFrame(data)\n",
        "\n",
        "# Compute the correlation matrix\n",
        "corr_matrix = df.corr()\n",
        "\n",
        "# Set up the matplotlib figure\n",
        "plt.figure(figsize=(10, 8))\n",
        "\n",
        "# Generate a custom diverging colormap\n",
        "cmap = sns.diverging_palette(230, 20, as_cmap=True)\n",
        "\n",
        "# Generate a mask for the upper triangle\n",
        "mask = np.triu(np.ones_like(corr_matrix, dtype=bool))\n",
        "\n",
        "# Draw the heatmap with the mask and correct aspect ratio\n",
        "sns.heatmap(corr_matrix, mask=mask, cmap=cmap, vmax=1.0, center=0,\n",
        "            annot=True, annot_kws={\"size\": 10}, fmt='.2f',\n",
        "            linewidths=0.5, cbar_kws={\"shrink\": 0.8})\n",
        "\n",
        "# Add title\n",
        "plt.title('Correlation Heatmap', fontsize=16)\n",
        "\n",
        "# Display the heatmap\n",
        "plt.show()\n"
      ],
      "metadata": {
        "id": "xyC9zolEZNRQ"
      },
      "execution_count": null,
      "outputs": []
    },
    {
      "cell_type": "markdown",
      "source": [
        "##### 1. Why did you pick the specific chart?"
      ],
      "metadata": {
        "id": "UV0SzAkaZNRQ"
      }
    },
    {
      "cell_type": "markdown",
      "source": [
        "Quick Identification of Relationships: Correlation heatmaps provide an immediate visual representation of how variables relate to each other. The color intensity in each cell indicates the strength and direction of the correlation, making it easy to spot strong positive or negative relationships."
      ],
      "metadata": {
        "id": "DVPuT8LYZNRQ"
      }
    },
    {
      "cell_type": "markdown",
      "source": [
        "##### 2. What is/are the insight(s) found from the chart?"
      ],
      "metadata": {
        "id": "YPEH6qLeZNRQ"
      }
    },
    {
      "cell_type": "markdown",
      "source": [
        "Identifying Strong Positive and Negative Correlations\n",
        "\n",
        "Variables with correlation coefficients close to +1 indicate a strong positive relationship, meaning as one variable increases, the other tends to increase as well.\n",
        "\n",
        "Conversely, coefficients close to -1 signify a strong negative relationship, where an increase in one variable corresponds to a decrease in the other.\n",
        "\n",
        "A coefficient near 0 suggests little to no linear relationship between the variables."
      ],
      "metadata": {
        "id": "bfSqtnDqZNRR"
      }
    },
    {
      "cell_type": "markdown",
      "source": [
        "#### Chart - 15 - Pair Plot"
      ],
      "metadata": {
        "id": "q29F0dvdveiT"
      }
    },
    {
      "cell_type": "code",
      "source": [
        "# Pair Plot visualization code\n",
        "import seaborn as sns\n",
        "import matplotlib.pyplot as plt\n",
        "\n",
        "# Assuming 'df' is your DataFrame\n",
        "numerical_columns = ['Line Item Quantity', 'Line Item Value', 'Pack Price', 'Unit Price',\n",
        "                     'Weight (Kilograms)', 'Freight Cost (USD)', 'Line Item Insurance (USD)']\n",
        "sns.pairplot(df[numerical_columns])\n",
        "plt.show()\n"
      ],
      "metadata": {
        "id": "o58-TEIhveiU"
      },
      "execution_count": null,
      "outputs": []
    },
    {
      "cell_type": "markdown",
      "source": [
        "##### 1. Why did you pick the specific chart?"
      ],
      "metadata": {
        "id": "EXh0U9oCveiU"
      }
    },
    {
      "cell_type": "markdown",
      "source": [
        "Comprehensive Visualization: A pair plot displays scatter plots for each pair of numerical variables, along with histograms or kernel density estimates (KDEs) on the diagonal. This layout allows for a quick assessment of how variables relate to each other and their individual distributions.\n",
        "\n",
        "Correlation Detection: By examining the scatter plots, you can identify linear or nonlinear relationships between variables, which is crucial for understanding dependencies and multicollinearity.\n",
        "\n",
        "Outlier Identification: The scatter plots can highlight data points that deviate significantly from the general trend, aiding in the detection of outliers that may require further investigation.\n",
        "\n",
        "Feature Selection: In the context of machine learning, pair plots help in identifying which variables have strong relationships, guiding feature selection for model building.\n",
        "\n",
        "\n",
        "Exploratory Data Analysis (EDA): Pair plots are a staple in EDA, providing insights into the structure and characteristics of the data, which can inform subsequent analysis steps."
      ],
      "metadata": {
        "id": "eMmPjTByveiU"
      }
    },
    {
      "cell_type": "markdown",
      "source": [
        "##### 2. What is/are the insight(s) found from the chart?"
      ],
      "metadata": {
        "id": "22aHeOlLveiV"
      }
    },
    {
      "cell_type": "markdown",
      "source": [
        "Pair plots are invaluable tools in exploratory data analysis (EDA), offering a comprehensive view of relationships within a dataset. By visualizing pairwise relationships between numerical variables, they facilitate the identification of patterns, correlations, and anomalies."
      ],
      "metadata": {
        "id": "uPQ8RGwHveiV"
      }
    },
    {
      "cell_type": "markdown",
      "source": [
        "## **5. Solution to Business Objective**"
      ],
      "metadata": {
        "id": "JcMwzZxoAimU"
      }
    },
    {
      "cell_type": "markdown",
      "source": [
        "#### What do you suggest the client to achieve Business Objective ?\n",
        "Explain Briefly."
      ],
      "metadata": {
        "id": "8G2x9gOozGDZ"
      }
    },
    {
      "cell_type": "markdown",
      "source": [
        " Define Clear Business Objectives\n",
        "Action: Engage in discussions with the client to clearly define their business goals. Ensure these objectives are Specific, Measurable, Achievable, Relevant, and Time-bound (SMART). This clarity will guide the project's direction and purpose.\n",
        "\n",
        "Example: If the client's goal is to increase market share, a SMART objective could be: \"Achieve a 10% increase in market share within the next 12 months by expanding into two new geographic regions.\"\n",
        "\n",
        " Align Project Objectives with Business Goals\n",
        "Action: Develop project objectives that directly support the overarching business goals. This alignment ensures that the project's outcomes contribute to the client's strategic success.\n",
        "\n",
        "Example: To support the market share expansion, a project objective might be: \"Launch localized marketing campaigns in the identified regions within the next six months.\"\n",
        "\n",
        "Establish Key Performance Indicators (KPIs)\n",
        "Action: Define KPIs that will measure the project's success in achieving its objectives. These should be aligned with both project and business goals.\n",
        "\n",
        "Example: KPIs for the marketing campaign could include metrics such as:\n",
        "\n",
        "Number of new leads generated\n",
        "\n",
        "Conversion rate from leads to customers\n",
        "\n",
        "Customer acquisition cost"
      ],
      "metadata": {
        "id": "pASKb0qOza21"
      }
    },
    {
      "cell_type": "markdown",
      "source": [
        "# **Conclusion**"
      ],
      "metadata": {
        "id": "gCX9965dhzqZ"
      }
    },
    {
      "cell_type": "markdown",
      "source": [
        "This project aimed to analyze a comprehensive dataset encompassing various supply chain and product metrics, including shipment details, vendor information, and financial aspects. Through advanced data visualization techniques, such as pair plots and correlation heatmaps, we sought to uncover underlying patterns and relationships within the data."
      ],
      "metadata": {
        "id": "Fjb1IsQkh3yE"
      }
    },
    {
      "cell_type": "markdown",
      "source": [
        "### ***Hurrah! You have successfully completed your EDA Capstone Project !!!***"
      ],
      "metadata": {
        "id": "gIfDvo9L0UH2"
      }
    }
  ]
}